{
 "cells": [
  {
   "cell_type": "markdown",
   "metadata": {
    "collapsed": false
   },
   "source": [
    "# Восстановление кривой из цены свопа"
   ]
  },
  {
   "cell_type": "markdown",
   "metadata": {
    "collapsed": false
   },
   "source": [
    "$$S_{2Y} = \\frac{1 - D_{24M}}{0.5 (D_{6M} + D_{12M} + D_{18M} + D_{24M}) }$$"
   ]
  },
  {
   "cell_type": "code",
   "execution_count": 1,
   "metadata": {
    "collapsed": true
   },
   "outputs": [],
   "source": [
    "import numpy as np\n",
    "import collections\n",
    "import matplotlib.pyplot as plt\n",
    "import scipy.interpolate\n",
    "import scipy.optimize"
   ]
  },
  {
   "cell_type": "code",
   "execution_count": 2,
   "metadata": {
    "collapsed": false
   },
   "outputs": [],
   "source": [
    "global DF\n",
    "def DF(L,m):\n",
    "    return 1.0 / (1.0 + L*0.01*m/12)\n",
    "\n",
    "global rate \n",
    "def rate(D,m):\n",
    "    return (1/D - 1)*100*12/m\n",
    "\n",
    "global tenors \n",
    "tenors = [3, 6, 9, 12, 15, 18, 21, 24]\n",
    "L3 = 1.120\n",
    "L6 = 1.430\n",
    "L12 = 1.814\n",
    "S2 = 1.684"
   ]
  },
  {
   "cell_type": "code",
   "execution_count": 3,
   "metadata": {
    "collapsed": false
   },
   "outputs": [],
   "source": [
    "def getLibors(L3, L6, L12, L24, method):\n",
    "    if (method =='loglinear'):\n",
    "        D18 = np.sqrt(DF(L24,24)*DF(L12,12))\n",
    "        L18 = rate(D18,18)\n",
    "        D9 = np.sqrt(DF(L12,12)*DF(L6,6))\n",
    "        L9 = rate(D9,9)\n",
    "        D15 = np.sqrt(DF(L12,12)*DF(L18,18))\n",
    "        L15 = rate(D15,15)\n",
    "        D21 = np.sqrt(DF(L18,18)*DF(L24,24))\n",
    "        L21 = rate(D21,21)\n",
    "        return [L3, L6, L9, L12, L15, L18, L21, L24.tolist()]\n",
    "    elif method in ('cubic', 'linear', 'quadratic'):\n",
    "        knownMonths = [3, 6, 12, 24]\n",
    "        knownY = [L3, L6, L12, L24]\n",
    "        f = scipy.interpolate.interp1d(knownMonths, knownY, method)\n",
    "        return f(tenors) \n",
    "    \n",
    "def get3M(libor, step=3):\n",
    "    monthly = []\n",
    "    for i in xrange(len(libors)-1):\n",
    "        df1=DF(libor[i],(i+1)*step)\n",
    "        df2=DF(libor[i+1],(i+2)*step)\n",
    "        r = (df1 / df2 - 1)/step*12*100\n",
    "        monthly.append(r)\n",
    "    return monthly"
   ]
  },
  {
   "cell_type": "markdown",
   "metadata": {
    "collapsed": false
   },
   "source": [
    "## Использование линейной интерполяции"
   ]
  },
  {
   "cell_type": "markdown",
   "metadata": {
    "collapsed": false
   },
   "source": [
    "$$D_{18M}  = \\frac{D_{24M} + D_{12M}}{2}$$"
   ]
  },
  {
   "cell_type": "code",
   "execution_count": 4,
   "metadata": {
    "collapsed": false
   },
   "outputs": [
    {
     "name": "stdout",
     "output_type": "stream",
     "text": [
      "[ 1.12        1.43        1.622       1.814       1.73305107  1.65210215\n",
      "  1.57115322  1.4902043 ]\n",
      "[1.7351416035102041, 1.9917589236955635, 2.3612750885478206, 1.3841469445361021, 1.2209088017764103, 1.0592107996382438, 0.89884783011440206]\n"
     ]
    }
   ],
   "source": [
    "def FLin(S2,L6,L12):\n",
    "    return (4 - 2*S2*0.01*DF(L6,6) - 3*S2*0.01*DF(L12,12)) / (4 + 2*S2*0.01)\n",
    "\n",
    "D24 = FLin(S2,L6,L12)\n",
    "L24 = rate(D24,24)\n",
    "L18 = 0.5*(L24 + L12)\n",
    "libors = getLibors(L3, L6, L12, L24, 'linear')\n",
    "print libors\n",
    "print get3M(libors)"
   ]
  },
  {
   "cell_type": "code",
   "execution_count": 5,
   "metadata": {
    "collapsed": false
   },
   "outputs": [
    {
     "data": {
      "text/plain": [
       "[<matplotlib.lines.Line2D at 0x7f5eff303590>]"
      ]
     },
     "execution_count": 5,
     "metadata": {},
     "output_type": "execute_result"
    },
    {
     "data": {
      "image/png": "[encoded data removed]"
     },
     "execution_count": 5,
     "metadata": {},
     "output_type": "execute_result"
    }
   ],
   "source": [
    "plt.title('USD yield curve linear')\n",
    "plt.xlabel('Month')\n",
    "plt.ylabel('USD_rate')\n",
    "plt.plot(tenors, libors)\n",
    "plt.plot(tenors[0:-1], get3M(libors))"
   ]
  },
  {
   "cell_type": "markdown",
   "metadata": {
    "collapsed": false
   },
   "source": [
    "## Лог-линейная интерполяция"
   ]
  },
  {
   "cell_type": "markdown",
   "metadata": {
    "collapsed": false
   },
   "source": [
    "$$D_{18M}  = \\sqrt{D_{24M}D_{12M}}$$"
   ]
  },
  {
   "cell_type": "code",
   "execution_count": 9,
   "metadata": {
    "collapsed": false
   },
   "outputs": [
    {
     "data": {
      "text/plain": [
       "[<matplotlib.lines.Line2D at 0x7f5eff303510>]"
      ]
     },
     "execution_count": 9,
     "metadata": {},
     "output_type": "execute_result"
    },
    {
     "data": {
      "image/png": "[encoded data removed]"
     },
     "execution_count": 9,
     "metadata": {},
     "output_type": "execute_result"
    }
   ],
   "source": [
    "def F(x, S2, L6, L12):\n",
    "    S2 = 0.01*S2\n",
    "    D6 = DF(L6,6)\n",
    "    D12 = DF(L12,12)\n",
    "    D24 = DF(x,24)\n",
    "    D18 = np.sqrt(D12*D24)\n",
    "    return 0.5*S2*(D6 + D12 + D18 + D24) - 1 + D24\n",
    "\n",
    "L24 = scipy.optimize.broyden1(lambda x: F(x,S2,L6,L12), 1.0, f_tol=1e-6)\n",
    "D18 = np.sqrt(DF(L12,12)*DF(L24,24))\n",
    "L18 = rate(D18, 18)\n",
    "\n",
    "libors=getLibors(L3, L6, L12, L24, 'loglinear')\n",
    "\n",
    "plt.title('USD yield curve log-linear')\n",
    "plt.xlabel('Month')\n",
    "plt.ylabel('USD_rate')\n",
    "plt.plot(tenors, libors)\n",
    "plt.plot(tenors[0:-1], get3M(libors))\n"
   ]
  },
  {
   "cell_type": "markdown",
   "metadata": {
    "collapsed": false
   },
   "source": [
    "## Кубические сплайны"
   ]
  },
  {
   "cell_type": "code",
   "execution_count": 11,
   "metadata": {
    "collapsed": false
   },
   "outputs": [
    {
     "data": {
      "text/plain": [
       "[<matplotlib.lines.Line2D at 0x7f5eff1868d0>]"
      ]
     },
     "execution_count": 11,
     "metadata": {},
     "output_type": "execute_result"
    },
    {
     "data": {
      "image/png": "[encoded data removed]"
     },
     "execution_count": 11,
     "metadata": {},
     "output_type": "execute_result"
    }
   ],
   "source": [
    "def F(x, S2, L3, L6, L12):\n",
    "    S2 = 0.01*S2\n",
    "    D6 = DF(L6,6)\n",
    "    D12 = DF(L12,12)\n",
    "    f = scipy.interpolate.interp1d([3,6,12,24], [L3,L6,L12,x], 'cubic')\n",
    "    L18 = f(18)\n",
    "    D18 = DF(L18, 18)\n",
    "    D24 = DF(x, 24)\n",
    "    return 0.5*S2*(D6 + D12 + D18 + D24) - 1 + D24\n",
    "\n",
    "L24 = scipy.optimize.broyden1(lambda x: F(x,S2,L3,L6,L12), 1.0, f_tol=1e-6)\n",
    "libors=getLibors(L3, L6, L12, L24, 'cubic')\n",
    "plt.title('USD yield curve cubic')\n",
    "plt.xlabel('Month')\n",
    "plt.ylabel('USD_rate')\n",
    "plt.plot(tenors, libors)\n",
    "plt.plot(tenors[0:-1], get3M(libors))"
   ]
  },
  {
   "cell_type": "markdown",
   "metadata": {
    "collapsed": false
   },
   "source": [
    "## Квадратичная интерполяция"
   ]
  },
  {
   "cell_type": "code",
   "execution_count": 13,
   "metadata": {
    "collapsed": false
   },
   "outputs": [
    {
     "name": "stdout",
     "output_type": "stream",
     "text": [
      "[ 1.12        1.43        1.66078235  1.814       1.89295889  1.90096496\n",
      "  1.83801819  1.7041186 ]\n"
     ]
    },
    {
     "data": {
      "text/plain": [
       "[<matplotlib.lines.Line2D at 0x7f5eff0d06d0>]"
      ]
     },
     "execution_count": 13,
     "metadata": {},
     "output_type": "execute_result"
    },
    {
     "data": {
      "image/png": "[encoded data removed]"
     },
     "execution_count": 13,
     "metadata": {},
     "output_type": "execute_result"
    }
   ],
   "source": [
    "def F(x, S2, L3, L6, L12):\n",
    "    S2 = 0.01*S2\n",
    "    D6 = DF(L6,6)\n",
    "    D12 = DF(L12,12)\n",
    "    f = scipy.interpolate.interp1d([3,6,12,24], [L3,L6,L12,x], 'quadratic')\n",
    "    L18 = f(18)\n",
    "    D18 = DF(L18, 18)\n",
    "    D24 = DF(x, 24)\n",
    "    return 0.5*S2*(D6 + D12 + D18 + D24) - 1 + D24\n",
    "\n",
    "L24 = scipy.optimize.broyden1(lambda x: F(x,S2,L3,L6,L12), 1.0, f_tol=1e-6)\n",
    "\n",
    "f = scipy.interpolate.interp1d([3,6,12,24], [L3,L6,L12,L24], 'quadratic')\n",
    "L18 = f(18)\n",
    "libors = getLibors(L3, L6, L12, L24, 'quadratic')\n",
    "print libors\n",
    "plt.title('USD yield curve quadratic')\n",
    "plt.xlabel('Month')\n",
    "plt.ylabel('USD_rate')\n",
    "plt.plot(tenors, libors)\n",
    "plt.plot(tenors[0:-1], get3M(libors))"
   ]
  }
 ],
 "metadata": {
  "kernelspec": {
   "display_name": "Python 3",
   "language": "python",
   "name": "python3"
  },
  "language_info": {
   "codemirror_mode": {
    "name": "ipython",
    "version": 3
   },
   "file_extension": ".py",
   "mimetype": "text/x-python",
   "name": "python",
   "nbconvert_exporter": "python",
   "pygments_lexer": "ipython3",
   "version": "3.6.0"
  },
  "name": "L3_bootstrapping.ipynb"
 },
 "nbformat": 4,
 "nbformat_minor": 0
}
